{
 "cells": [
  {
   "cell_type": "code",
   "execution_count": 44,
   "metadata": {},
   "outputs": [],
   "source": [
    "class Node:\n",
    "    def __init__(self, data):\n",
    "        self.data = data\n",
    "        self.next = None\n",
    "\n",
    "\n",
    "class Stack:\n",
    "    def __init__(self, size):\n",
    "        self.top = None\n",
    "        self.n = 0\n",
    "        self.size = size\n",
    "\n",
    "    def isempty(self):\n",
    "        return self.top == None\n",
    "\n",
    "    def push(self, data):\n",
    "        if self.n < self.size:\n",
    "            new_node = Node(data)\n",
    "            new_node.next = self.top\n",
    "            self.top = new_node\n",
    "            self.n += 1\n",
    "        else:\n",
    "            raise OverflowError(\"Stack is Full !!\")\n",
    "\n",
    "    def pop(self):\n",
    "        if self.isempty():\n",
    "            return \"Stack is Empty, Consider pushing some items\"\n",
    "        curr = self.top.data\n",
    "        # Now Top is pointing to the next top\n",
    "        self.top = self.top.next\n",
    "        self.n -= 1\n",
    "        return curr\n",
    "        print(f\"{curr} has been removed from the stack\")\n",
    "        print(\"*\" * 80)\n",
    "        self.__show()\n",
    "\n",
    "    def peek(self):\n",
    "        if self.isempty():\n",
    "            return \"Stack is Empty\"\n",
    "        return self.top.data\n",
    "\n",
    "    def __show(self):\n",
    "        if self.isempty():\n",
    "            print(\"Stack is Empty, No Need to pop now !!\")\n",
    "        else:\n",
    "            temp = self.top\n",
    "            while temp.next != None:\n",
    "                print(temp.data)\n",
    "                temp = temp.next\n",
    "            print(temp.data)\n",
    "\n",
    "    def __len__(self):\n",
    "        return self.n\n",
    "\n",
    "    def size(self):\n",
    "        if self.isempty():\n",
    "            return \"Stack Empty\"\n",
    "        return self.n"
   ]
  },
  {
   "cell_type": "code",
   "execution_count": 45,
   "metadata": {},
   "outputs": [],
   "source": [
    "S = Stack(3)"
   ]
  },
  {
   "cell_type": "code",
   "execution_count": 49,
   "metadata": {},
   "outputs": [
    {
     "ename": "OverflowError",
     "evalue": "Stack is Full !!",
     "output_type": "error",
     "traceback": [
      "\u001b[0;31m---------------------------------------------------------------------------\u001b[0m",
      "\u001b[0;31mOverflowError\u001b[0m                             Traceback (most recent call last)",
      "Cell \u001b[0;32mIn[49], line 1\u001b[0m\n\u001b[0;32m----> 1\u001b[0m \u001b[43mS\u001b[49m\u001b[38;5;241;43m.\u001b[39;49m\u001b[43mpush\u001b[49m\u001b[43m(\u001b[49m\u001b[38;5;241;43m4\u001b[39;49m\u001b[43m)\u001b[49m\n",
      "Cell \u001b[0;32mIn[44], line 23\u001b[0m, in \u001b[0;36mStack.push\u001b[0;34m(self, data)\u001b[0m\n\u001b[1;32m     21\u001b[0m     \u001b[38;5;28mself\u001b[39m\u001b[38;5;241m.\u001b[39mn \u001b[38;5;241m+\u001b[39m\u001b[38;5;241m=\u001b[39m \u001b[38;5;241m1\u001b[39m\n\u001b[1;32m     22\u001b[0m \u001b[38;5;28;01melse\u001b[39;00m:\n\u001b[0;32m---> 23\u001b[0m     \u001b[38;5;28;01mraise\u001b[39;00m \u001b[38;5;167;01mOverflowError\u001b[39;00m(\u001b[38;5;124m\"\u001b[39m\u001b[38;5;124mStack is Full !!\u001b[39m\u001b[38;5;124m\"\u001b[39m)\n",
      "\u001b[0;31mOverflowError\u001b[0m: Stack is Full !!"
     ]
    }
   ],
   "source": [
    "S.push(4)"
   ]
  },
  {
   "cell_type": "code",
   "execution_count": 36,
   "metadata": {},
   "outputs": [
    {
     "data": {
      "text/plain": [
       "0"
      ]
     },
     "execution_count": 36,
     "metadata": {},
     "output_type": "execute_result"
    }
   ],
   "source": [
    "S.n"
   ]
  },
  {
   "cell_type": "code",
   "execution_count": 30,
   "metadata": {},
   "outputs": [
    {
     "ename": "OverflowError",
     "evalue": "Stack is Full !!",
     "output_type": "error",
     "traceback": [
      "\u001b[0;31m---------------------------------------------------------------------------\u001b[0m",
      "\u001b[0;31mOverflowError\u001b[0m                             Traceback (most recent call last)",
      "Cell \u001b[0;32mIn[30], line 1\u001b[0m\n\u001b[0;32m----> 1\u001b[0m \u001b[43mS\u001b[49m\u001b[38;5;241;43m.\u001b[39;49m\u001b[43mpush\u001b[49m\u001b[43m(\u001b[49m\u001b[38;5;241;43m1\u001b[39;49m\u001b[43m)\u001b[49m\n",
      "Cell \u001b[0;32mIn[28], line 23\u001b[0m, in \u001b[0;36mStack.push\u001b[0;34m(self, data)\u001b[0m\n\u001b[1;32m     21\u001b[0m     \u001b[38;5;28mself\u001b[39m\u001b[38;5;241m.\u001b[39mn \u001b[38;5;241m+\u001b[39m\u001b[38;5;241m=\u001b[39m \u001b[38;5;241m1\u001b[39m\n\u001b[1;32m     22\u001b[0m \u001b[38;5;28;01melse\u001b[39;00m:\n\u001b[0;32m---> 23\u001b[0m     \u001b[38;5;28;01mraise\u001b[39;00m \u001b[38;5;167;01mOverflowError\u001b[39;00m(\u001b[38;5;124m\"\u001b[39m\u001b[38;5;124mStack is Full !!\u001b[39m\u001b[38;5;124m\"\u001b[39m)\n",
      "\u001b[0;31mOverflowError\u001b[0m: Stack is Full !!"
     ]
    }
   ],
   "source": [
    "S.push(1)"
   ]
  },
  {
   "cell_type": "code",
   "execution_count": 205,
   "metadata": {},
   "outputs": [
    {
     "data": {
      "text/plain": [
       "'Stack is Empty, Consider pushing some items'"
      ]
     },
     "execution_count": 205,
     "metadata": {},
     "output_type": "execute_result"
    }
   ],
   "source": [
    "S.pop()"
   ]
  },
  {
   "cell_type": "code",
   "execution_count": 206,
   "metadata": {},
   "outputs": [],
   "source": [
    "# Reverse a string using stack"
   ]
  },
  {
   "cell_type": "code",
   "execution_count": 207,
   "metadata": {},
   "outputs": [],
   "source": [
    "# 'hello' -> 'olleh'"
   ]
  },
  {
   "cell_type": "code",
   "execution_count": 208,
   "metadata": {},
   "outputs": [],
   "source": [
    "# pattern recognition"
   ]
  },
  {
   "cell_type": "code",
   "execution_count": null,
   "metadata": {},
   "outputs": [],
   "source": [
    "# Undo -> Pop item\n",
    "# Redo -> Redo the undo\n",
    "# (\"Hello\", \"urururur\")\n",
    "\n",
    "\n",
    "# Undo\n",
    "# Redo"
   ]
  },
  {
   "cell_type": "code",
   "execution_count": null,
   "metadata": {},
   "outputs": [],
   "source": [
    "# Hello\n",
    "# Hell\n",
    "# Hello\n",
    "# Hell\n",
    "# Hello\n",
    "# Hell\n",
    "# Hel"
   ]
  },
  {
   "cell_type": "code",
   "execution_count": 20,
   "metadata": {},
   "outputs": [],
   "source": [
    "def reverse_string(**kwargs):\n",
    "    if not \"data\" in kwargs.keys():\n",
    "        raise KeyError(\"Only data key is allowed\")\n",
    "    data = kwargs[\"data\"]\n",
    "    if not isinstance(data, str):\n",
    "        raise TypeError(\"Only strings are allowed\")\n",
    "    else:\n",
    "        if len(data) > 0:\n",
    "            new_str = \"\"\n",
    "            stck = Stack()\n",
    "            while stck.n < len(data):\n",
    "                stck.push(data[stck.n])\n",
    "            curr = stck.top\n",
    "            while stck.n > 0:\n",
    "                temp = stck.pop()\n",
    "                new_str = new_str + temp\n",
    "                curr = curr.next\n",
    "            # temp = stck.pop()\n",
    "            # new_str = new_str + temp\n",
    "            return new_str\n",
    "        else:\n",
    "            raise ValueError(\"Empty Strings are not Allowed !!\")"
   ]
  },
  {
   "cell_type": "code",
   "execution_count": 22,
   "metadata": {},
   "outputs": [
    {
     "data": {
      "text/plain": [
       "'varuog'"
      ]
     },
     "execution_count": 22,
     "metadata": {},
     "output_type": "execute_result"
    }
   ],
   "source": [
    "reverse_string(data=\"gourav\")"
   ]
  },
  {
   "cell_type": "code",
   "execution_count": null,
   "metadata": {},
   "outputs": [],
   "source": []
  },
  {
   "cell_type": "code",
   "execution_count": null,
   "metadata": {},
   "outputs": [],
   "source": []
  }
 ],
 "metadata": {
  "kernelspec": {
   "display_name": "DataScience",
   "language": "python",
   "name": "python3"
  },
  "language_info": {
   "codemirror_mode": {
    "name": "ipython",
    "version": 3
   },
   "file_extension": ".py",
   "mimetype": "text/x-python",
   "name": "python",
   "nbconvert_exporter": "python",
   "pygments_lexer": "ipython3",
   "version": "3.10.16"
  }
 },
 "nbformat": 4,
 "nbformat_minor": 2
}

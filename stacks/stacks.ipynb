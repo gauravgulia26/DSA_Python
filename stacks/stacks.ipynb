{
 "cells": [
  {
   "cell_type": "code",
   "execution_count": 196,
   "metadata": {},
   "outputs": [],
   "source": [
    "class Node:\n",
    "    def __init__(self, data):\n",
    "        self.data = data\n",
    "        self.next = None\n",
    "\n",
    "\n",
    "class Stack:\n",
    "    def __init__(self):\n",
    "        self.top = None\n",
    "        self.n = 0\n",
    "\n",
    "    def isempty(self):\n",
    "        return self.top == None\n",
    "\n",
    "    def push(self, data):\n",
    "        new_node = Node(data)\n",
    "        new_node.next = self.top\n",
    "        self.top = new_node\n",
    "        self.n += 1\n",
    "        self.__show()\n",
    "\n",
    "    def pop(self):\n",
    "        if self.isempty():\n",
    "            return \"Stack is Empty, Consider pushing some items\"\n",
    "        curr = self.top.data\n",
    "        # Now Top is pointing to the next top\n",
    "        self.top = self.top.next\n",
    "        self.n -= 1\n",
    "        print(f\"{curr} has been removed from the stack\")\n",
    "        print(\"*\" * 80)\n",
    "        self.__show()\n",
    "\n",
    "    def peek(self):\n",
    "        if self.isempty():\n",
    "            return \"Stack is Empty\"\n",
    "        return self.top.data\n",
    "\n",
    "    def __show(self):\n",
    "        if self.isempty():\n",
    "            print(\"Stack is Empty, No Need to pop now !!\")\n",
    "        else:\n",
    "            temp = self.top\n",
    "            while temp.next != None:\n",
    "                print(temp.data)\n",
    "                temp = temp.next\n",
    "            print(temp.data)\n",
    "\n",
    "    def __len__(self):\n",
    "        return self.n\n",
    "\n",
    "    def size(self):\n",
    "        if self.isempty():\n",
    "            return \"Stack Empty\"\n",
    "        return self.n"
   ]
  },
  {
   "cell_type": "code",
   "execution_count": 197,
   "metadata": {},
   "outputs": [],
   "source": [
    "S = Stack()"
   ]
  },
  {
   "cell_type": "code",
   "execution_count": 198,
   "metadata": {},
   "outputs": [
    {
     "data": {
      "text/plain": [
       "'Stack Empty'"
      ]
     },
     "execution_count": 198,
     "metadata": {},
     "output_type": "execute_result"
    }
   ],
   "source": [
    "S.size()"
   ]
  },
  {
   "cell_type": "code",
   "execution_count": 201,
   "metadata": {},
   "outputs": [
    {
     "name": "stdout",
     "output_type": "stream",
     "text": [
      "3\n",
      "2\n",
      "1\n"
     ]
    }
   ],
   "source": [
    "S.push(3)"
   ]
  },
  {
   "cell_type": "code",
   "execution_count": 205,
   "metadata": {},
   "outputs": [
    {
     "data": {
      "text/plain": [
       "'Stack is Empty, Consider pushing some items'"
      ]
     },
     "execution_count": 205,
     "metadata": {},
     "output_type": "execute_result"
    }
   ],
   "source": [
    "S.pop()"
   ]
  },
  {
   "cell_type": "code",
   "execution_count": 206,
   "metadata": {},
   "outputs": [],
   "source": [
    "# Reverse a string using stack"
   ]
  },
  {
   "cell_type": "code",
   "execution_count": 207,
   "metadata": {},
   "outputs": [],
   "source": [
    "# 'hello' -> 'olleh'"
   ]
  },
  {
   "cell_type": "code",
   "execution_count": 208,
   "metadata": {},
   "outputs": [],
   "source": [
    "# pattern recognition"
   ]
  },
  {
   "cell_type": "code",
   "execution_count": null,
   "metadata": {},
   "outputs": [],
   "source": [
    "# Undo -> Pop item\n",
    "# Redo -> Redo the undo\n",
    "# (\"Hello\", \"urururur\")\n",
    "\n",
    "\n",
    "# Undo\n",
    "# Redo"
   ]
  },
  {
   "cell_type": "code",
   "execution_count": null,
   "metadata": {},
   "outputs": [],
   "source": [
    "# Hello\n",
    "# Hell\n",
    "# Hello\n",
    "# Hell\n",
    "# Hello\n",
    "# Hell\n",
    "# Hel"
   ]
  },
  {
   "cell_type": "code",
   "execution_count": 4,
   "metadata": {},
   "outputs": [
    {
     "data": {
      "text/plain": [
       "12"
      ]
     },
     "execution_count": 4,
     "metadata": {},
     "output_type": "execute_result"
    }
   ],
   "source": [
    "def reverse_string(**kwargs):\n",
    "    if not \"data\" in kwargs.keys():\n",
    "        raise KeyError(\"Only data key is allowed\")\n",
    "    data = kwargs[\"data\"]\n",
    "    if not isinstance(data, str):\n",
    "        raise TypeError(\"Only strings are allowed\")\n",
    "    else:\n",
    "        if len(data) > 0:\n",
    "            new_str = \"\"\n",
    "            stck = Stack()\n",
    "            for i in range(len(data)):\n",
    "                stck.push(data[i])\n",
    "            curr = stck.top\n",
    "            while curr.next is not None:\n",
    "                temp = stck.pop()\n",
    "                new_str = new_str + temp\n",
    "                curr = curr.next\n",
    "            temp = stck.pop()\n",
    "            new_str = new_str + temp\n",
    "            return new_str\n",
    "        else:\n",
    "            raise ValueError(\"Empty Strings are not Allowed !!\")"
   ]
  },
  {
   "cell_type": "code",
   "execution_count": null,
   "metadata": {},
   "outputs": [],
   "source": []
  },
  {
   "cell_type": "code",
   "execution_count": null,
   "metadata": {},
   "outputs": [],
   "source": []
  },
  {
   "cell_type": "code",
   "execution_count": null,
   "metadata": {},
   "outputs": [],
   "source": []
  }
 ],
 "metadata": {
  "kernelspec": {
   "display_name": "MachineLearning",
   "language": "python",
   "name": "python3"
  },
  "language_info": {
   "codemirror_mode": {
    "name": "ipython",
    "version": 3
   },
   "file_extension": ".py",
   "mimetype": "text/x-python",
   "name": "python",
   "nbconvert_exporter": "python",
   "pygments_lexer": "ipython3",
   "version": "3.10.16"
  }
 },
 "nbformat": 4,
 "nbformat_minor": 2
}

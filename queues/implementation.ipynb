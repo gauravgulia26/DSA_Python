{
 "cells": [
  {
   "cell_type": "code",
   "execution_count": 5,
   "metadata": {},
   "outputs": [],
   "source": [
    "class Node:\n",
    "    def __init__(self, data):\n",
    "        self.data = data\n",
    "        self.next = None\n",
    "\n",
    "\n",
    "class Queue:\n",
    "    def __init__(self):\n",
    "        self.front = None\n",
    "        self.rear = None\n",
    "        self.n = 0\n",
    "\n",
    "    def enqueue(self, data):\n",
    "        new_node = Node(data)\n",
    "        if self.rear is None:  # Queue is empty\n",
    "            self.front = new_node\n",
    "            self.rear = new_node\n",
    "        else:  # Add to the end of the queue\n",
    "            self.rear.next = new_node\n",
    "            self.rear = new_node\n",
    "        self.n += 1\n",
    "\n",
    "    def dequeue(self):\n",
    "        if self.front is None:  # Queue is empty\n",
    "            return \"Queue is Empty, Consider enqueuing some items.\"\n",
    "        self.front = self.front.next  # Move the front pointer to the next node\n",
    "        if self.front is None:  # If the queue becomes empty\n",
    "            self.rear = None\n",
    "        self.n -= 1\n",
    "\n",
    "    def show(self):\n",
    "        if self.front is None:  # Queue is empty\n",
    "            return \"Queue is Empty\"\n",
    "\n",
    "        curr = self.front  # Use a temporary variable for traversal\n",
    "        while curr is not None:\n",
    "            print(curr.data, end=\" -> \")  # Print the data\n",
    "            curr = curr.next\n",
    "        print(\"None\")  # Indicate the end of the queue\n",
    "\n",
    "    def isempty(self):\n",
    "        return self.front is None  # Return a boolean value\n",
    "\n",
    "    def size(self):\n",
    "        return self.n"
   ]
  },
  {
   "cell_type": "code",
   "execution_count": 2,
   "metadata": {},
   "outputs": [],
   "source": [
    "q = Queue()"
   ]
  },
  {
   "cell_type": "code",
   "execution_count": 3,
   "metadata": {},
   "outputs": [
    {
     "data": {
      "text/plain": [
       "'Queue is Empty, Consider enqueuing some items.'"
      ]
     },
     "execution_count": 3,
     "metadata": {},
     "output_type": "execute_result"
    }
   ],
   "source": [
    "q.dequeue()"
   ]
  },
  {
   "cell_type": "code",
   "execution_count": 4,
   "metadata": {},
   "outputs": [],
   "source": [
    "q.enqueue(10)\n",
    "q.enqueue(21)\n",
    "q.enqueue(33)\n",
    "q.enqueue(45)"
   ]
  },
  {
   "cell_type": "code",
   "execution_count": 5,
   "metadata": {},
   "outputs": [
    {
     "data": {
      "text/plain": [
       "4"
      ]
     },
     "execution_count": 5,
     "metadata": {},
     "output_type": "execute_result"
    }
   ],
   "source": [
    "q.size()"
   ]
  },
  {
   "cell_type": "code",
   "execution_count": 6,
   "metadata": {},
   "outputs": [
    {
     "name": "stdout",
     "output_type": "stream",
     "text": [
      "10 -> 21 -> 33 -> 45 -> None\n"
     ]
    }
   ],
   "source": [
    "q.show()"
   ]
  },
  {
   "cell_type": "code",
   "execution_count": 7,
   "metadata": {},
   "outputs": [],
   "source": [
    "q.dequeue()"
   ]
  },
  {
   "cell_type": "code",
   "execution_count": 8,
   "metadata": {},
   "outputs": [
    {
     "data": {
      "text/plain": [
       "False"
      ]
     },
     "execution_count": 8,
     "metadata": {},
     "output_type": "execute_result"
    }
   ],
   "source": [
    "q.isempty()"
   ]
  },
  {
   "cell_type": "code",
   "execution_count": 9,
   "metadata": {},
   "outputs": [],
   "source": [
    "fx = \"[({3ds})]\""
   ]
  },
  {
   "cell_type": "code",
   "execution_count": 10,
   "metadata": {},
   "outputs": [],
   "source": [
    "#  To check if there is balanced parenthisis in expression"
   ]
  },
  {
   "cell_type": "code",
   "execution_count": 11,
   "metadata": {},
   "outputs": [],
   "source": [
    "def check_parenthis(formula) -> bool:\n",
    "    fx = Queue()\n",
    "    choices = [\"[\", \"]\", \"{\", \"}\", \"(\", \")\"]\n",
    "    for _ in str(formula):\n",
    "        fx.enqueue(_)\n",
    "    curr = fx.front\n",
    "    ct = 0\n",
    "    while curr is not None:\n",
    "        if curr.data in choices:\n",
    "            ct += 1\n",
    "        curr = curr.next\n",
    "    if ct % 2 == 0:\n",
    "        return \"Expression is balanced\"\n",
    "    else:\n",
    "        return SyntaxError(\"Bracket is missing\")"
   ]
  },
  {
   "cell_type": "code",
   "execution_count": 12,
   "metadata": {},
   "outputs": [
    {
     "data": {
      "text/plain": [
       "'Expression is balanced'"
      ]
     },
     "execution_count": 12,
     "metadata": {},
     "output_type": "execute_result"
    }
   ],
   "source": [
    "check_parenthis(fx)"
   ]
  },
  {
   "cell_type": "code",
   "execution_count": 2,
   "metadata": {},
   "outputs": [],
   "source": [
    "# Check if the parenthesis is balanced or not using queue"
   ]
  },
  {
   "cell_type": "code",
   "execution_count": null,
   "metadata": {},
   "outputs": [],
   "source": [
    "class Node:\n",
    "    def __init__(self, data):\n",
    "        self.data = data\n",
    "        self.next = None\n",
    "\n",
    "\n",
    "class Queue:\n",
    "    def __init__(self):\n",
    "        self.front = None\n",
    "        self.rear = None\n",
    "        self.n = 0\n",
    "\n",
    "    def enqueue(self, data):\n",
    "        new_node = Node(data)\n",
    "        if self.rear is None:  # Queue is empty\n",
    "            self.front = new_node\n",
    "            self.rear = new_node\n",
    "        else:  # Add to the end of the queue\n",
    "            self.rear.next = new_node\n",
    "            self.rear = new_node\n",
    "        self.n += 1\n",
    "\n",
    "    def dequeue(self):\n",
    "        if self.front is None:  # Queue is empty\n",
    "            return \"Queue is Empty, Consider enqueuing some items.\"\n",
    "        self.front = self.front.next  # Move the front pointer to the next node\n",
    "        if self.front is None:  # If the queue becomes empty\n",
    "            self.rear = None\n",
    "        self.n -= 1\n",
    "\n",
    "    def show(self):\n",
    "        if self.front is None:  # Queue is empty\n",
    "            return \"Queue is Empty\"\n",
    "\n",
    "        curr = self.front  # Use a temporary variable for traversal\n",
    "        while curr is not None:\n",
    "            print(curr.data, end=\" -> \")  # Print the data\n",
    "            curr = curr.next\n",
    "        print(\"None\")  # Indicate the end of the queue\n",
    "\n",
    "    def isempty(self):\n",
    "        return self.front is None  # Return a boolean value\n",
    "\n",
    "    def size(self):\n",
    "        return self.n"
   ]
  },
  {
   "cell_type": "code",
   "execution_count": 14,
   "metadata": {},
   "outputs": [],
   "source": [
    "# Check if the expression is balanced or not using queue\n",
    "fx = \"[[{3ds}}]\""
   ]
  },
  {
   "cell_type": "code",
   "execution_count": 17,
   "metadata": {},
   "outputs": [],
   "source": [
    "# dc ={\n",
    "#     '[':1,\n",
    "#     '(':1,\n",
    "#     '{':1,\n",
    "# }"
   ]
  },
  {
   "cell_type": "code",
   "execution_count": 22,
   "metadata": {},
   "outputs": [],
   "source": [
    "def check_parenthis(fx):\n",
    "    fx_queue = Queue()\n",
    "    dc = {}\n",
    "    for _ in fx:\n",
    "        if _ in \"{[()]}\":\n",
    "            fx_queue.enqueue(_)\n",
    "        else:\n",
    "            pass\n",
    "    return fx_queue.dequeue()"
   ]
  },
  {
   "cell_type": "code",
   "execution_count": 23,
   "metadata": {},
   "outputs": [],
   "source": [
    "check_parenthis(fx)"
   ]
  },
  {
   "cell_type": "code",
   "execution_count": 76,
   "metadata": {},
   "outputs": [],
   "source": [
    "# Use two stacks to mimic a behaviour of a single queue."
   ]
  },
  {
   "cell_type": "code",
   "execution_count": 85,
   "metadata": {},
   "outputs": [],
   "source": [
    "# enqueue\n",
    "# deque"
   ]
  },
  {
   "cell_type": "code",
   "execution_count": null,
   "metadata": {},
   "outputs": [],
   "source": [
    "# 12345\n",
    "# dequeu\n",
    "# 1\n",
    "# dequeu\n",
    "# 2\n",
    "# enqueu\n",
    "# 2"
   ]
  },
  {
   "cell_type": "code",
   "execution_count": null,
   "metadata": {},
   "outputs": [],
   "source": []
  },
  {
   "cell_type": "code",
   "execution_count": null,
   "metadata": {},
   "outputs": [],
   "source": []
  },
  {
   "cell_type": "code",
   "execution_count": null,
   "metadata": {},
   "outputs": [],
   "source": []
  }
 ],
 "metadata": {
  "kernelspec": {
   "display_name": "DataScience",
   "language": "python",
   "name": "python3"
  },
  "language_info": {
   "codemirror_mode": {
    "name": "ipython",
    "version": 3
   },
   "file_extension": ".py",
   "mimetype": "text/x-python",
   "name": "python",
   "nbconvert_exporter": "python",
   "pygments_lexer": "ipython3",
   "version": "3.10.16"
  }
 },
 "nbformat": 4,
 "nbformat_minor": 2
}

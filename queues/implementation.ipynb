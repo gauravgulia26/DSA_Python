{
 "cells": [
  {
   "cell_type": "code",
   "execution_count": 92,
   "metadata": {},
   "outputs": [],
   "source": [
    "class Node:\n",
    "    def __init__(self, data):\n",
    "        self.data = data\n",
    "        self.head = None\n",
    "        self.next = None\n",
    "\n",
    "\n",
    "class Queue:\n",
    "    def __init__(self):\n",
    "        self.front = None\n",
    "        self.rear = None\n",
    "        self.n = 0\n",
    "\n",
    "    def enqueue(self, data):\n",
    "        if self.rear is None:\n",
    "            new_node = Node(data)\n",
    "            self.front = new_node\n",
    "            self.rear = new_node\n",
    "            self.n += 1\n",
    "        new_node = Node(data)\n",
    "        curr = self.rear\n",
    "        # next targets the memory address\n",
    "        curr.next = new_node\n",
    "        # Curr target the feull rear node\n",
    "        curr = new_node\n",
    "        self.n += 1\n",
    "\n",
    "    def dequeue(self):\n",
    "        if self.front is None:\n",
    "            return \"Queue is Empty, Consider enqueuing some items.\"\n",
    "\n",
    "        # curr is self.front\n",
    "        curr = self.front\n",
    "        curr = curr.next\n",
    "        self.n -= 1\n",
    "\n",
    "    def show(self):\n",
    "        if self.rear == None:\n",
    "            return \"The queue is empty\"\n",
    "        else:\n",
    "            ptr = self.rear\n",
    "            while ptr.next != None:\n",
    "                print(ptr.data, end=\" \")\n",
    "                ptr = ptr.next\n",
    "            print(ptr.data)\n",
    "\n",
    "    def isempty(self):\n",
    "        if self.front is None:\n",
    "            return \"Your Queue is empty\"\n",
    "\n",
    "    def size(self):\n",
    "        return self.n"
   ]
  },
  {
   "cell_type": "code",
   "execution_count": 93,
   "metadata": {},
   "outputs": [],
   "source": [
    "q = Queue()"
   ]
  },
  {
   "cell_type": "code",
   "execution_count": 94,
   "metadata": {},
   "outputs": [
    {
     "data": {
      "text/plain": [
       "'Queue is Empty, Consider enqueuing some items.'"
      ]
     },
     "execution_count": 94,
     "metadata": {},
     "output_type": "execute_result"
    }
   ],
   "source": [
    "q.dequeue()"
   ]
  },
  {
   "cell_type": "code",
   "execution_count": 104,
   "metadata": {},
   "outputs": [],
   "source": [
    "q.enqueue(1)"
   ]
  },
  {
   "cell_type": "code",
   "execution_count": 105,
   "metadata": {},
   "outputs": [],
   "source": [
    "q.enqueue(2)"
   ]
  },
  {
   "cell_type": "code",
   "execution_count": 106,
   "metadata": {},
   "outputs": [
    {
     "data": {
      "text/plain": [
       "7"
      ]
     },
     "execution_count": 106,
     "metadata": {},
     "output_type": "execute_result"
    }
   ],
   "source": [
    "q.size()"
   ]
  },
  {
   "cell_type": "code",
   "execution_count": 107,
   "metadata": {},
   "outputs": [
    {
     "name": "stdout",
     "output_type": "stream",
     "text": [
      "1\n"
     ]
    }
   ],
   "source": [
    "q.show()"
   ]
  }
 ],
 "metadata": {
  "kernelspec": {
   "display_name": "Python 3",
   "language": "python",
   "name": "python3"
  },
  "language_info": {
   "codemirror_mode": {
    "name": "ipython",
    "version": 3
   },
   "file_extension": ".py",
   "mimetype": "text/x-python",
   "name": "python",
   "nbconvert_exporter": "python",
   "pygments_lexer": "ipython3",
   "version": "3.10.16"
  }
 },
 "nbformat": 4,
 "nbformat_minor": 2
}

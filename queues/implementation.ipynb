{
 "cells": [
  {
   "cell_type": "code",
   "execution_count": 159,
   "metadata": {},
   "outputs": [],
   "source": [
    "class Node:\n",
    "    def __init__(self, data):\n",
    "        self.data = data\n",
    "        self.next = None\n",
    "\n",
    "\n",
    "class Queue:\n",
    "    def __init__(self):\n",
    "        self.front = None\n",
    "        self.rear = None\n",
    "        self.n = 0\n",
    "\n",
    "    def enqueue(self, data):\n",
    "        new_node = Node(data)\n",
    "        if self.rear is None:  # Queue is empty\n",
    "            self.front = new_node\n",
    "            self.rear = new_node\n",
    "        else:  # Add to the end of the queue\n",
    "            self.rear.next = new_node\n",
    "            self.rear = new_node\n",
    "        self.n += 1\n",
    "\n",
    "    def dequeue(self):\n",
    "        if self.front is None:  # Queue is empty\n",
    "            return \"Queue is Empty, Consider enqueuing some items.\"\n",
    "        self.front = self.front.next  # Move the front pointer to the next node\n",
    "        if self.front is None:  # If the queue becomes empty\n",
    "            self.rear = None\n",
    "        self.n -= 1\n",
    "\n",
    "    def show(self):\n",
    "        if self.front is None:  # Queue is empty\n",
    "            return \"Queue is Empty\"\n",
    "\n",
    "        curr = self.front  # Use a temporary variable for traversal\n",
    "        while curr is not None:\n",
    "            print(curr.data, end=\" -> \")  # Print the data\n",
    "            curr = curr.next\n",
    "        print(\"None\")  # Indicate the end of the queue\n",
    "\n",
    "    def isempty(self):\n",
    "        return self.front is None  # Return a boolean value\n",
    "\n",
    "    def size(self):\n",
    "        return self.n"
   ]
  },
  {
   "cell_type": "code",
   "execution_count": 176,
   "metadata": {},
   "outputs": [],
   "source": [
    "q = Queue()"
   ]
  },
  {
   "cell_type": "code",
   "execution_count": 177,
   "metadata": {},
   "outputs": [
    {
     "data": {
      "text/plain": [
       "'Queue is Empty, Consider enqueuing some items.'"
      ]
     },
     "execution_count": 177,
     "metadata": {},
     "output_type": "execute_result"
    }
   ],
   "source": [
    "q.dequeue()"
   ]
  },
  {
   "cell_type": "code",
   "execution_count": 191,
   "metadata": {},
   "outputs": [],
   "source": [
    "q.enqueue(10)\n",
    "q.enqueue(21)\n",
    "q.enqueue(33)\n",
    "q.enqueue(45)"
   ]
  },
  {
   "cell_type": "code",
   "execution_count": 198,
   "metadata": {},
   "outputs": [
    {
     "data": {
      "text/plain": [
       "2"
      ]
     },
     "execution_count": 198,
     "metadata": {},
     "output_type": "execute_result"
    }
   ],
   "source": [
    "q.size()"
   ]
  },
  {
   "cell_type": "code",
   "execution_count": 205,
   "metadata": {},
   "outputs": [
    {
     "data": {
      "text/plain": [
       "'Queue is Empty'"
      ]
     },
     "execution_count": 205,
     "metadata": {},
     "output_type": "execute_result"
    }
   ],
   "source": [
    "q.show()"
   ]
  },
  {
   "cell_type": "code",
   "execution_count": 203,
   "metadata": {},
   "outputs": [
    {
     "data": {
      "text/plain": [
       "'Queue is Empty, Consider enqueuing some items.'"
      ]
     },
     "execution_count": 203,
     "metadata": {},
     "output_type": "execute_result"
    }
   ],
   "source": [
    "q.dequeue()"
   ]
  },
  {
   "cell_type": "code",
   "execution_count": 204,
   "metadata": {},
   "outputs": [
    {
     "data": {
      "text/plain": [
       "True"
      ]
     },
     "execution_count": 204,
     "metadata": {},
     "output_type": "execute_result"
    }
   ],
   "source": [
    "q.isempty()"
   ]
  },
  {
   "cell_type": "code",
   "execution_count": 222,
   "metadata": {},
   "outputs": [],
   "source": [
    "fx = \"[({3ds}]\""
   ]
  },
  {
   "cell_type": "code",
   "execution_count": 207,
   "metadata": {},
   "outputs": [],
   "source": [
    "#  To check if there is balanced parenthisis in expression"
   ]
  },
  {
   "cell_type": "code",
   "execution_count": 223,
   "metadata": {},
   "outputs": [],
   "source": [
    "def check_parenthis(formula) -> bool:\n",
    "    fx = Queue()\n",
    "    choices = [\"[\", \"]\", \"{\", \"}\", \"(\", \")\"]\n",
    "    for _ in str(formula):\n",
    "        fx.enqueue(_)\n",
    "    curr = fx.front\n",
    "    ct = 0\n",
    "    while curr is not None:\n",
    "        if curr.data in choices:\n",
    "            ct += 1\n",
    "        curr = curr.next\n",
    "    if ct % 2 == 0:\n",
    "        return \"Expression is balanced\"\n",
    "    else:\n",
    "        return SyntaxError(\"Bracket is missing\")"
   ]
  },
  {
   "cell_type": "code",
   "execution_count": 224,
   "metadata": {},
   "outputs": [
    {
     "data": {
      "text/plain": [
       "SyntaxError('Bracket is missing')"
      ]
     },
     "execution_count": 224,
     "metadata": {},
     "output_type": "execute_result"
    }
   ],
   "source": [
    "check_parenthis(fx)"
   ]
  }
 ],
 "metadata": {
  "kernelspec": {
   "display_name": "DataScience",
   "language": "python",
   "name": "python3"
  },
  "language_info": {
   "codemirror_mode": {
    "name": "ipython",
    "version": 3
   },
   "file_extension": ".py",
   "mimetype": "text/x-python",
   "name": "python",
   "nbconvert_exporter": "python",
   "pygments_lexer": "ipython3",
   "version": "3.10.16"
  }
 },
 "nbformat": 4,
 "nbformat_minor": 2
}

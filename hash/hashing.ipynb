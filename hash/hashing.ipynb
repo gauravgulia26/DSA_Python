{
 "cells": [
  {
   "cell_type": "code",
   "execution_count": 26,
   "metadata": {},
   "outputs": [
    {
     "name": "stdout",
     "output_type": "stream",
     "text": [
      "10 inserted at index 0\n",
      "15 inserted at index 1\n",
      "20 inserted at index 2\n",
      "25 inserted at index 3\n",
      "30 inserted at index 4\n",
      "Hash Table is full\n"
     ]
    }
   ],
   "source": [
    "class Node:\n",
    "    def __init__(self, data):\n",
    "        self.data = data\n",
    "        self.next = None\n",
    "        \n",
    "        # FIXME This is a node class\n",
    "\n",
    "class Dictionary:\n",
    "    def __init__(self, size):\n",
    "        self.hash = [None] * size  # Initialize hash table with None\n",
    "        self.size = size  # Size of the hash table\n",
    "        self.n = 0  # Number of elements currently in the hash table\n",
    "\n",
    "    def insert(self, data):\n",
    "        if self.n == self.size:\n",
    "            return \"Hash Table is full\"  # Return if the table is full\n",
    "\n",
    "        # Hash function: data % size\n",
    "        hash_index = data % self.size\n",
    "        \n",
    "        # TODO: This needs to be done\n",
    "\n",
    "        # Linear probing to handle collisions\n",
    "        original_index = hash_index\n",
    "        while self.hash[hash_index] is not None:\n",
    "            hash_index = (hash_index + 1) % self.size\n",
    "            if hash_index == original_index:  # Full cycle, table is full\n",
    "                return \"Hash Table is full due to collisions\"\n",
    "\n",
    "        # Insert the data into the hash table\n",
    "        self.hash[hash_index] = data\n",
    "        self.n += 1\n",
    "        return f\"{data} inserted at index {hash_index}\"\n",
    "\n",
    "    def display(self):\n",
    "        for i, val in enumerate(self.hash):\n",
    "            print(f\"Index {i}: {val}\")\n",
    "\n",
    "\n",
    "# Example usage\n",
    "hash_table = Dictionary(5)\n",
    "\n",
    "print(hash_table.insert(10))  # Inserts at index 0\n",
    "print(hash_table.insert(15))  # Inserts at index 0 (collision resolved to next index)\n",
    "print(hash_table.insert(20))  # Inserts at index 0 (collision resolved further)\n",
    "print(hash_table.insert(25))  # Inserts at index 1\n",
    "print(hash_table.insert(30))  # Inserts at index 2\n",
    "print(hash_table.insert(35))  # Hash Table is full"
   ]
  },
  {
   "cell_type": "code",
   "execution_count": 25,
   "metadata": {},
   "outputs": [
    {
     "name": "stdout",
     "output_type": "stream",
     "text": [
      "Index 0: 10\n",
      "Index 1: 15\n",
      "Index 2: 20\n",
      "Index 3: 25\n",
      "Index 4: 30\n"
     ]
    }
   ],
   "source": [
    "hash_table.display()"
   ]
  },
  {
   "cell_type": "code",
   "execution_count": 4,
   "metadata": {},
   "outputs": [],
   "source": [
    "word = \"Dog\""
   ]
  },
  {
   "cell_type": "code",
   "execution_count": 8,
   "metadata": {},
   "outputs": [
    {
     "data": {
      "text/plain": [
       "0"
      ]
     },
     "execution_count": 8,
     "metadata": {},
     "output_type": "execute_result"
    }
   ],
   "source": [
    "sum([ord(x) for x in word]) % len(word)"
   ]
  },
  {
   "cell_type": "code",
   "execution_count": 126,
   "metadata": {},
   "outputs": [],
   "source": [
    "def Hash(elements, size):\n",
    "    arr = [None] * size\n",
    "    asci_values = {\n",
    "        char: (sum([ord(x) for x in char]) % len(elements)) for char in elements\n",
    "    }\n",
    "    for i in elements:\n",
    "        if arr[asci_values[i]] is not None:\n",
    "            arr[asci_values[i]] = \"Collision\"\n",
    "            continue\n",
    "        arr[asci_values[i]] = i\n",
    "    return arr"
   ]
  },
  {
   "cell_type": "code",
   "execution_count": 127,
   "metadata": {},
   "outputs": [
    {
     "data": {
      "text/plain": [
       "['Dog', 'Collision', None]"
      ]
     },
     "execution_count": 127,
     "metadata": {},
     "output_type": "execute_result"
    }
   ],
   "source": [
    "Hash([\"Dog\", \"Cat\", \"Rat\"], 3)"
   ]
  },
  {
   "cell_type": "code",
   "execution_count": 17,
   "metadata": {},
   "outputs": [],
   "source": []
  },
  {
   "cell_type": "code",
   "execution_count": null,
   "metadata": {},
   "outputs": [],
   "source": []
  },
  {
   "cell_type": "code",
   "execution_count": 33,
   "metadata": {},
   "outputs": [
    {
     "data": {
      "text/plain": [
       "['D', 'o', 'g', 'C', 'a', 't', 'R', 'a', 't']"
      ]
     },
     "execution_count": 33,
     "metadata": {},
     "output_type": "execute_result"
    }
   ],
   "source": [
    "[y for x in elements for y in x]"
   ]
  },
  {
   "cell_type": "code",
   "execution_count": 39,
   "metadata": {},
   "outputs": [
    {
     "data": {
      "text/plain": [
       "{'Dog': [82, 97, 116]}"
      ]
     },
     "execution_count": 39,
     "metadata": {},
     "output_type": "execute_result"
    }
   ],
   "source": [
    "{word: [ord(x) for x in y] for y in elements}"
   ]
  },
  {
   "cell_type": "code",
   "execution_count": 111,
   "metadata": {},
   "outputs": [
    {
     "name": "stdout",
     "output_type": "stream",
     "text": [
      "D\n",
      "o\n",
      "g\n",
      "C\n",
      "a\n",
      "t\n",
      "R\n",
      "a\n",
      "t\n"
     ]
    }
   ],
   "source": [
    "for char in elements:\n",
    "    for x in char:\n",
    "        print(x)"
   ]
  },
  {
   "cell_type": "code",
   "execution_count": 112,
   "metadata": {},
   "outputs": [],
   "source": [
    "asci_values = {char: (sum([ord(x) for x in char]) % len(elements)) for char in elements}"
   ]
  },
  {
   "cell_type": "code",
   "execution_count": 113,
   "metadata": {},
   "outputs": [
    {
     "data": {
      "text/plain": [
       "{'Dog': 0, 'Cat': 1, 'Rat': 1}"
      ]
     },
     "execution_count": 113,
     "metadata": {},
     "output_type": "execute_result"
    }
   ],
   "source": [
    "asci_values"
   ]
  },
  {
   "cell_type": "code",
   "execution_count": 53,
   "metadata": {},
   "outputs": [],
   "source": []
  },
  {
   "cell_type": "code",
   "execution_count": 108,
   "metadata": {},
   "outputs": [],
   "source": [
    "# {x: [{x: x**2 for x in range(4)} for x in range(x)] for x in range(5)}"
   ]
  },
  {
   "cell_type": "code",
   "execution_count": 60,
   "metadata": {},
   "outputs": [],
   "source": [
    "# {key:value}"
   ]
  },
  {
   "cell_type": "code",
   "execution_count": 62,
   "metadata": {},
   "outputs": [],
   "source": [
    "# {key:value}"
   ]
  },
  {
   "cell_type": "code",
   "execution_count": 76,
   "metadata": {},
   "outputs": [],
   "source": [
    "# {\n",
    "#     x: {x: [{d: d**3 for d in range(10)} for y in range(x)] for x in range(x)}\n",
    "#     for x in range(10)\n",
    "# }"
   ]
  },
  {
   "cell_type": "code",
   "execution_count": 79,
   "metadata": {},
   "outputs": [],
   "source": [
    "original = {x: x**2 for x in range(10)}"
   ]
  },
  {
   "cell_type": "code",
   "execution_count": 90,
   "metadata": {},
   "outputs": [
    {
     "name": "stdout",
     "output_type": "stream",
     "text": [
      "0 0\n",
      "1 1\n",
      "2 4\n",
      "3 9\n",
      "4 16\n",
      "5 25\n",
      "6 36\n",
      "7 49\n",
      "8 64\n",
      "9 81\n"
     ]
    }
   ],
   "source": [
    "for key, value in original.items():\n",
    "    print(key, value)"
   ]
  },
  {
   "cell_type": "code",
   "execution_count": 99,
   "metadata": {},
   "outputs": [],
   "source": [
    "# {key + 1: (x for x in range(value)) for key, value in original.items()}"
   ]
  },
  {
   "cell_type": "code",
   "execution_count": 97,
   "metadata": {},
   "outputs": [],
   "source": [
    "# (x for x in range(10))"
   ]
  },
  {
   "cell_type": "code",
   "execution_count": null,
   "metadata": {},
   "outputs": [],
   "source": []
  }
 ],
 "metadata": {
  "kernelspec": {
   "display_name": "DataScience",
   "language": "python",
   "name": "python3"
  },
  "language_info": {
   "codemirror_mode": {
    "name": "ipython",
    "version": 3
   },
   "file_extension": ".py",
   "mimetype": "text/x-python",
   "name": "python",
   "nbconvert_exporter": "python",
   "pygments_lexer": "ipython3",
   "version": "3.10.16"
  }
 },
 "nbformat": 4,
 "nbformat_minor": 2
}

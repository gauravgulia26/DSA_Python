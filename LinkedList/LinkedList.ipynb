{
 "cells": [
  {
   "cell_type": "code",
   "execution_count": 82,
   "metadata": {},
   "outputs": [],
   "source": [
    "class EmptyDtype(Exception):\n",
    "    pass\n",
    "\n",
    "\n",
    "class Node:\n",
    "    def __init__(self, data):\n",
    "        self.data = data\n",
    "        self.next = None\n",
    "\n",
    "    def __str__(self):\n",
    "        return f\"{Node.__name__}\"\n",
    "\n",
    "\n",
    "class LinkedList:\n",
    "    def __init__(self):\n",
    "        self.head = None\n",
    "        self.n = 0\n",
    "\n",
    "    def __len__(self):\n",
    "        return self.n\n",
    "\n",
    "    def __str__(self):\n",
    "        return f\"{LinkedList.__name__}\"\n",
    "\n",
    "    def prepend(self, data):\n",
    "        # Making a new node using aggregation relationship\n",
    "        new_node = Node(data)\n",
    "        # Connecting the new_node to the head\n",
    "        new_node.next = self.head\n",
    "        # To give the memory adress of the linked list to the head\n",
    "        # new_node is just the memory address of the new node\n",
    "        self.head = new_node\n",
    "        self.n += 1\n",
    "        self.__show()\n",
    "\n",
    "    def append(self, data):\n",
    "        if self.head is None:\n",
    "            new_node = Node(data)\n",
    "            self.head = new_node\n",
    "            self.n += 1\n",
    "            self.__show()\n",
    "        else:\n",
    "            new_node = Node(data)\n",
    "            curr = self.head\n",
    "            while curr.next is not None:\n",
    "                curr = curr.next\n",
    "            curr.next = new_node\n",
    "            self.n += 1\n",
    "            self.__show()\n",
    "\n",
    "    def __show(self):\n",
    "        if self.head == None:\n",
    "            raise EmptyDtype(\"List is Empty,Consider Prepending some data.\")\n",
    "        curr = self.head\n",
    "        while curr.next != None:\n",
    "            print(f\"{curr.data}=>\", end=\"\")\n",
    "            curr = curr.next\n",
    "        print(f\"{curr.data}=>None\")\n",
    "\n",
    "    def find_element(self, data):\n",
    "        curr = self.head\n",
    "        idx = 0\n",
    "        while curr is not None:\n",
    "            if curr.data == data:\n",
    "                return f\"Element is present in {idx} Node\"\n",
    "            curr = curr.next\n",
    "            idx += 1\n",
    "        return \"Element is not in the list\"\n",
    "\n",
    "    def drop(self):\n",
    "        self.__init__()\n",
    "        return f\"{LinkedList.__name__} is Empty now\"\n",
    "\n",
    "    def remove(self, data):\n",
    "        curr = self.head\n",
    "        if curr is None:\n",
    "            raise Exception(\n",
    "                \"List is already empty. Consider adding some values using prepend or append.\"\n",
    "            )\n",
    "\n",
    "        # Handle the case where the value to be removed is at the head\n",
    "        if curr.data == data:\n",
    "            self.head = curr.next\n",
    "            self.n -= 1\n",
    "            self.__show()\n",
    "            return\n",
    "\n",
    "        # Traverse the list to find and remove the node\n",
    "        while curr.next is not None:\n",
    "            if curr.next.data == data:\n",
    "                # Remove the node by updating the pointer\n",
    "                curr.next = curr.next.next\n",
    "                self.n -= 1\n",
    "                self.__show()\n",
    "                return\n",
    "            curr = curr.next\n",
    "\n",
    "        # Value not found in the list\n",
    "        return \"Value is not in the list !!\""
   ]
  },
  {
   "cell_type": "code",
   "execution_count": 83,
   "metadata": {},
   "outputs": [],
   "source": [
    "L = LinkedList()"
   ]
  },
  {
   "cell_type": "code",
   "execution_count": null,
   "metadata": {},
   "outputs": [],
   "source": [
    "import random\n",
    "\n",
    "for i in range(10):\n",
    "    L.prepend(random.randint(1, 10))\n",
    "for i in range(5):\n",
    "    L.append(random.randint(20, 30))"
   ]
  },
  {
   "cell_type": "code",
   "execution_count": null,
   "metadata": {},
   "outputs": [],
   "source": [
    "L.remove(23)"
   ]
  },
  {
   "cell_type": "code",
   "execution_count": null,
   "metadata": {},
   "outputs": [],
   "source": [
    "L.find_element(4)"
   ]
  },
  {
   "cell_type": "code",
   "execution_count": null,
   "metadata": {},
   "outputs": [],
   "source": [
    "L.remove(11)"
   ]
  },
  {
   "cell_type": "code",
   "execution_count": null,
   "metadata": {},
   "outputs": [],
   "source": [
    "L.drop()"
   ]
  },
  {
   "cell_type": "code",
   "execution_count": null,
   "metadata": {},
   "outputs": [],
   "source": [
    "len(L)"
   ]
  },
  {
   "cell_type": "code",
   "execution_count": null,
   "metadata": {},
   "outputs": [],
   "source": [
    "a = 10\n",
    "a = a + 10\n",
    "a"
   ]
  },
  {
   "cell_type": "code",
   "execution_count": null,
   "metadata": {},
   "outputs": [],
   "source": []
  },
  {
   "cell_type": "code",
   "execution_count": null,
   "metadata": {},
   "outputs": [],
   "source": []
  },
  {
   "cell_type": "code",
   "execution_count": null,
   "metadata": {},
   "outputs": [],
   "source": []
  },
  {
   "cell_type": "code",
   "execution_count": null,
   "metadata": {},
   "outputs": [],
   "source": []
  },
  {
   "cell_type": "code",
   "execution_count": null,
   "metadata": {},
   "outputs": [],
   "source": []
  },
  {
   "cell_type": "code",
   "execution_count": null,
   "metadata": {},
   "outputs": [],
   "source": []
  },
  {
   "cell_type": "code",
   "execution_count": null,
   "metadata": {},
   "outputs": [],
   "source": []
  }
 ],
 "metadata": {
  "kernelspec": {
   "display_name": "DataScience",
   "language": "python",
   "name": "python3"
  },
  "language_info": {
   "codemirror_mode": {
    "name": "ipython",
    "version": 3
   },
   "file_extension": ".py",
   "mimetype": "text/x-python",
   "name": "python",
   "nbconvert_exporter": "python",
   "pygments_lexer": "ipython3",
   "version": "3.10.16"
  }
 },
 "nbformat": 4,
 "nbformat_minor": 2
}

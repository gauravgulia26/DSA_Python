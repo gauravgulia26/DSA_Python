{
 "cells": [
  {
   "cell_type": "code",
   "execution_count": 82,
   "metadata": {},
   "outputs": [],
   "source": [
    "class EmptyDtype(Exception):\n",
    "    pass\n",
    "\n",
    "\n",
    "class Node:\n",
    "    def __init__(self, data):\n",
    "        self.data = data\n",
    "        self.next = None\n",
    "\n",
    "    def __str__(self):\n",
    "        return f\"{Node.__name__}\"\n",
    "\n",
    "\n",
    "class LinkedList:\n",
    "    def __init__(self):\n",
    "        self.head = None\n",
    "        self.n = 0\n",
    "\n",
    "    def __len__(self):\n",
    "        return self.n\n",
    "\n",
    "    def __str__(self):\n",
    "        return f\"{LinkedList.__name__}\"\n",
    "\n",
    "    def prepend(self, data):\n",
    "        # Making a new node using aggregation relationship\n",
    "        new_node = Node(data)\n",
    "        # Connecting the new_node to the head\n",
    "        new_node.next = self.head\n",
    "        # To give the memory adress of the linked list to the head\n",
    "        # new_node is just the memory address of the new node\n",
    "        self.head = new_node\n",
    "        self.n += 1\n",
    "        self.__show()\n",
    "\n",
    "    def append(self, data):\n",
    "        if self.head is None:\n",
    "            new_node = Node(data)\n",
    "            self.head = new_node\n",
    "            self.n += 1\n",
    "            self.__show()\n",
    "        else:\n",
    "            new_node = Node(data)\n",
    "            curr = self.head\n",
    "            while curr.next is not None:\n",
    "                curr = curr.next\n",
    "            curr.next = new_node\n",
    "            self.n += 1\n",
    "            self.__show()\n",
    "\n",
    "    def __show(self):\n",
    "        if self.head == None:\n",
    "            raise EmptyDtype(\"List is Empty,Consider Prepending some data.\")\n",
    "        curr = self.head\n",
    "        while curr.next != None:\n",
    "            print(f\"{curr.data}=>\", end=\"\")\n",
    "            curr = curr.next\n",
    "        print(f\"{curr.data}=>None\")\n",
    "\n",
    "    def find_element(self, data):\n",
    "        curr = self.head\n",
    "        idx = 0\n",
    "        while curr is not None:\n",
    "            if curr.data == data:\n",
    "                return f\"Element is present in {idx} Node\"\n",
    "            curr = curr.next\n",
    "            idx += 1\n",
    "        return \"Element is not in the list\"\n",
    "\n",
    "    def drop(self):\n",
    "        self.__init__()\n",
    "        return f\"{LinkedList.__name__} is Empty now\"\n",
    "\n",
    "    def remove(self, data):\n",
    "        curr = self.head\n",
    "        if curr is None:\n",
    "            raise Exception(\n",
    "                \"List is already empty. Consider adding some values using prepend or append.\"\n",
    "            )\n",
    "\n",
    "        # Handle the case where the value to be removed is at the head\n",
    "        if curr.data == data:\n",
    "            self.head = curr.next\n",
    "            self.n -= 1\n",
    "            self.__show()\n",
    "            return\n",
    "\n",
    "        # Traverse the list to find and remove the node\n",
    "        while curr.next is not None:\n",
    "            if curr.next.data == data:\n",
    "                # Remove the node by updating the pointer\n",
    "                curr.next = curr.next.next\n",
    "                self.n -= 1\n",
    "                self.__show()\n",
    "                return\n",
    "            curr = curr.next\n",
    "\n",
    "        # Value not found in the list\n",
    "        return \"Value is not in the list !!\""
   ]
  },
  {
   "cell_type": "code",
   "execution_count": 83,
   "metadata": {},
   "outputs": [],
   "source": [
    "L = LinkedList()"
   ]
  },
  {
   "cell_type": "code",
   "execution_count": 84,
   "metadata": {},
   "outputs": [
    {
     "name": "stdout",
     "output_type": "stream",
     "text": [
      "8=>None\n",
      "10=>8=>None\n",
      "6=>10=>8=>None\n",
      "8=>6=>10=>8=>None\n",
      "1=>8=>6=>10=>8=>None\n",
      "9=>1=>8=>6=>10=>8=>None\n",
      "7=>9=>1=>8=>6=>10=>8=>None\n",
      "8=>7=>9=>1=>8=>6=>10=>8=>None\n",
      "6=>8=>7=>9=>1=>8=>6=>10=>8=>None\n",
      "10=>6=>8=>7=>9=>1=>8=>6=>10=>8=>None\n",
      "10=>6=>8=>7=>9=>1=>8=>6=>10=>8=>21=>None\n",
      "10=>6=>8=>7=>9=>1=>8=>6=>10=>8=>21=>20=>None\n",
      "10=>6=>8=>7=>9=>1=>8=>6=>10=>8=>21=>20=>22=>None\n",
      "10=>6=>8=>7=>9=>1=>8=>6=>10=>8=>21=>20=>22=>25=>None\n",
      "10=>6=>8=>7=>9=>1=>8=>6=>10=>8=>21=>20=>22=>25=>23=>None\n"
     ]
    }
   ],
   "source": [
    "import random\n",
    "\n",
    "for i in range(10):\n",
    "    L.prepend(random.randint(1, 10))\n",
    "for i in range(5):\n",
    "    L.append(random.randint(20, 30))"
   ]
  },
  {
   "cell_type": "code",
   "execution_count": 85,
   "metadata": {},
   "outputs": [
    {
     "name": "stdout",
     "output_type": "stream",
     "text": [
      "10=>6=>8=>7=>9=>1=>8=>6=>10=>8=>21=>20=>22=>25=>None\n"
     ]
    }
   ],
   "source": [
    "L.remove(23)"
   ]
  },
  {
   "cell_type": "code",
   "execution_count": 49,
   "metadata": {},
   "outputs": [
    {
     "data": {
      "text/plain": [
       "'Element is present in 5 Node'"
      ]
     },
     "execution_count": 49,
     "metadata": {},
     "output_type": "execute_result"
    }
   ],
   "source": [
    "L.find_element(4)"
   ]
  },
  {
   "cell_type": "code",
   "execution_count": 50,
   "metadata": {},
   "outputs": [
    {
     "ename": "AttributeError",
     "evalue": "'LinkedList' object has no attribute 'show'",
     "output_type": "error",
     "traceback": [
      "\u001b[0;31m---------------------------------------------------------------------------\u001b[0m",
      "\u001b[0;31mAttributeError\u001b[0m                            Traceback (most recent call last)",
      "Cell \u001b[0;32mIn[50], line 1\u001b[0m\n\u001b[0;32m----> 1\u001b[0m \u001b[43mL\u001b[49m\u001b[38;5;241;43m.\u001b[39;49m\u001b[43mremove\u001b[49m\u001b[43m(\u001b[49m\u001b[38;5;241;43m11\u001b[39;49m\u001b[43m)\u001b[49m\n",
      "Cell \u001b[0;32mIn[34], line 83\u001b[0m, in \u001b[0;36mLinkedList.remove\u001b[0;34m(self, data)\u001b[0m\n\u001b[1;32m     81\u001b[0m     curr\u001b[38;5;241m.\u001b[39mnext \u001b[38;5;241m=\u001b[39m curr\u001b[38;5;241m.\u001b[39mnext\u001b[38;5;241m.\u001b[39mnext\n\u001b[1;32m     82\u001b[0m     \u001b[38;5;28mself\u001b[39m\u001b[38;5;241m.\u001b[39mn \u001b[38;5;241m-\u001b[39m\u001b[38;5;241m=\u001b[39m \u001b[38;5;241m1\u001b[39m\n\u001b[0;32m---> 83\u001b[0m     \u001b[38;5;28;43mself\u001b[39;49m\u001b[38;5;241;43m.\u001b[39;49m\u001b[43mshow\u001b[49m()\n\u001b[1;32m     84\u001b[0m     \u001b[38;5;28;01mbreak\u001b[39;00m\n\u001b[1;32m     85\u001b[0m curr \u001b[38;5;241m=\u001b[39m curr\u001b[38;5;241m.\u001b[39mnext\n",
      "\u001b[0;31mAttributeError\u001b[0m: 'LinkedList' object has no attribute 'show'"
     ]
    }
   ],
   "source": [
    "L.remove(11)"
   ]
  },
  {
   "cell_type": "code",
   "execution_count": null,
   "metadata": {},
   "outputs": [],
   "source": [
    "L.drop()"
   ]
  },
  {
   "cell_type": "code",
   "execution_count": null,
   "metadata": {},
   "outputs": [],
   "source": [
    "len(L)"
   ]
  },
  {
   "cell_type": "code",
   "execution_count": null,
   "metadata": {},
   "outputs": [],
   "source": [
    "a = 10\n",
    "a = a + 10\n",
    "a"
   ]
  },
  {
   "cell_type": "code",
   "execution_count": null,
   "metadata": {},
   "outputs": [],
   "source": []
  },
  {
   "cell_type": "code",
   "execution_count": 36,
   "metadata": {},
   "outputs": [],
   "source": []
  },
  {
   "cell_type": "code",
   "execution_count": null,
   "metadata": {},
   "outputs": [],
   "source": []
  },
  {
   "cell_type": "code",
   "execution_count": null,
   "metadata": {},
   "outputs": [],
   "source": []
  },
  {
   "cell_type": "code",
   "execution_count": null,
   "metadata": {},
   "outputs": [],
   "source": []
  },
  {
   "cell_type": "code",
   "execution_count": null,
   "metadata": {},
   "outputs": [],
   "source": []
  },
  {
   "cell_type": "code",
   "execution_count": null,
   "metadata": {},
   "outputs": [],
   "source": []
  },
  {
   "cell_type": "code",
   "execution_count": null,
   "metadata": {},
   "outputs": [],
   "source": []
  },
  {
   "cell_type": "code",
   "execution_count": null,
   "metadata": {},
   "outputs": [],
   "source": []
  }
 ],
 "metadata": {
  "kernelspec": {
   "display_name": "MachineLearning",
   "language": "python",
   "name": "python3"
  },
  "language_info": {
   "codemirror_mode": {
    "name": "ipython",
    "version": 3
   },
   "file_extension": ".py",
   "mimetype": "text/x-python",
   "name": "python",
   "nbconvert_exporter": "python",
   "pygments_lexer": "ipython3",
   "version": "3.10.16"
  }
 },
 "nbformat": 4,
 "nbformat_minor": 2
}
